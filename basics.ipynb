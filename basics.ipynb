{
  "nbformat": 4,
  "nbformat_minor": 0,
  "metadata": {
    "colab": {
      "provenance": [],
      "authorship_tag": "ABX9TyM/uck/q9nysDEfThIz2psw",
      "include_colab_link": true
    },
    "kernelspec": {
      "name": "python3",
      "display_name": "Python 3"
    },
    "language_info": {
      "name": "python"
    }
  },
  "cells": [
    {
      "cell_type": "markdown",
      "metadata": {
        "id": "view-in-github",
        "colab_type": "text"
      },
      "source": [
        "<a href=\"https://colab.research.google.com/github/Tanusri04/Hugging_Face_Projects/blob/main/basics.ipynb\" target=\"_parent\"><img src=\"https://colab.research.google.com/assets/colab-badge.svg\" alt=\"Open In Colab\"/></a>"
      ]
    },
    {
      "cell_type": "code",
      "execution_count": null,
      "metadata": {
        "id": "89Zu_3RDaaLG",
        "colab": {
          "base_uri": "https://localhost:8080/"
        },
        "outputId": "87bc15e6-1877-46d4-d911-440aa01753c7"
      },
      "outputs": [
        {
          "output_type": "execute_result",
          "data": {
            "text/plain": [
              "torch.Size([2, 2])"
            ]
          },
          "metadata": {},
          "execution_count": 2
        }
      ],
      "source": [
        "import torch\n",
        "a = torch.tensor([[7, 7],\n",
        "                  [7, 7]])\n",
        "a.shape"
      ]
    },
    {
      "cell_type": "code",
      "source": [
        "a = torch.tensor([[1, 7], [9, 8]])\n",
        "a.ndim"
      ],
      "metadata": {
        "colab": {
          "base_uri": "https://localhost:8080/"
        },
        "id": "Z0CWdRdfCALq",
        "outputId": "b06cea19-689b-40b0-e857-3fb1fa7a6746"
      },
      "execution_count": null,
      "outputs": [
        {
          "output_type": "execute_result",
          "data": {
            "text/plain": [
              "2"
            ]
          },
          "metadata": {},
          "execution_count": 3
        }
      ]
    },
    {
      "cell_type": "code",
      "source": [
        "a[1][0]"
      ],
      "metadata": {
        "colab": {
          "base_uri": "https://localhost:8080/"
        },
        "id": "CTE5QS_kEN5r",
        "outputId": "1d6b3f5c-43a9-4fe2-c9d5-01e07b99676b"
      },
      "execution_count": null,
      "outputs": [
        {
          "output_type": "execute_result",
          "data": {
            "text/plain": [
              "tensor(9)"
            ]
          },
          "metadata": {},
          "execution_count": 4
        }
      ]
    },
    {
      "cell_type": "code",
      "source": [
        "#Used for images\n",
        "a = torch.rand(size = (233, 233, 3)) # height, width, colour (RGB)\n",
        "a.ndim, a.shape"
      ],
      "metadata": {
        "colab": {
          "base_uri": "https://localhost:8080/"
        },
        "id": "XYnOLb8fGzBa",
        "outputId": "231b16da-27ff-43be-d981-782d81f7d6c4"
      },
      "execution_count": null,
      "outputs": [
        {
          "output_type": "execute_result",
          "data": {
            "text/plain": [
              "(3, torch.Size([233, 233, 3]))"
            ]
          },
          "metadata": {},
          "execution_count": 5
        }
      ]
    },
    {
      "cell_type": "code",
      "source": [
        "#Zeros and ones\n",
        "a = torch.ones(1, 3)\n",
        "b = torch.zeros(2, 4, dtype = torch.float16) #default = float32\n",
        "b, a, a.dtype, b.dtype"
      ],
      "metadata": {
        "colab": {
          "base_uri": "https://localhost:8080/"
        },
        "id": "LlonvabxJB46",
        "outputId": "4e2a6980-93e6-4ec7-c718-9ae343013f76"
      },
      "execution_count": null,
      "outputs": [
        {
          "output_type": "execute_result",
          "data": {
            "text/plain": [
              "(tensor([[0., 0., 0., 0.],\n",
              "         [0., 0., 0., 0.]], dtype=torch.float16),\n",
              " tensor([[1., 1., 1.]]),\n",
              " torch.float32,\n",
              " torch.float16)"
            ]
          },
          "metadata": {},
          "execution_count": 6
        }
      ]
    },
    {
      "cell_type": "code",
      "source": [
        "#arange functions\n",
        "a = torch.arange(start = 0, end = 50, step = 5) #default step size = 1\n",
        "a\n"
      ],
      "metadata": {
        "colab": {
          "base_uri": "https://localhost:8080/"
        },
        "id": "U98O3hwcPwLG",
        "outputId": "4c80007d-cf40-449d-8e76-e7b3ab037a91"
      },
      "execution_count": null,
      "outputs": [
        {
          "output_type": "execute_result",
          "data": {
            "text/plain": [
              "tensor([ 0,  5, 10, 15, 20, 25, 30, 35, 40, 45])"
            ]
          },
          "metadata": {},
          "execution_count": 7
        }
      ]
    },
    {
      "cell_type": "code",
      "source": [
        "#Tensors like\n",
        "tensors_like = torch.ones_like(input = a)\n",
        "tensors_like"
      ],
      "metadata": {
        "colab": {
          "base_uri": "https://localhost:8080/"
        },
        "id": "bFdbYJVjRZFo",
        "outputId": "d9540234-7a20-43ff-c051-445ef73b396c"
      },
      "execution_count": null,
      "outputs": [
        {
          "output_type": "execute_result",
          "data": {
            "text/plain": [
              "tensor([1, 1, 1, 1, 1, 1, 1, 1, 1, 1])"
            ]
          },
          "metadata": {},
          "execution_count": 8
        }
      ]
    },
    {
      "cell_type": "code",
      "source": [
        "x = torch.tensor([3, 4, 5],\n",
        "          dtype = None,\n",
        "          device = 'cpu',\n",
        "          requires_grad = False) #for tracking gradients\n",
        "\n",
        "x = x.type(torch.half) #to change data types from one to another\n",
        "x"
      ],
      "metadata": {
        "colab": {
          "base_uri": "https://localhost:8080/"
        },
        "id": "iSNemck6TvJZ",
        "outputId": "d8f67d3a-e5c9-4d1b-a4c9-a440c867c6ee"
      },
      "execution_count": null,
      "outputs": [
        {
          "output_type": "execute_result",
          "data": {
            "text/plain": [
              "tensor([3., 4., 5.], dtype=torch.float16)"
            ]
          },
          "metadata": {},
          "execution_count": 9
        }
      ]
    },
    {
      "cell_type": "code",
      "source": [
        "x = torch.tensor([1, 2, 3])\n",
        "y = torch.rand(3, 1)\n",
        "print(y)\n",
        "torch.matmul(x, x) #matrix multiplication\n",
        "# OR\n",
        "print(x @ x)\n",
        "# OR use torch.mm"
      ],
      "metadata": {
        "colab": {
          "base_uri": "https://localhost:8080/"
        },
        "id": "8aUYyi0DveBT",
        "outputId": "14659281-511c-447e-deb1-e5634e9b4645"
      },
      "execution_count": null,
      "outputs": [
        {
          "output_type": "stream",
          "name": "stdout",
          "text": [
            "tensor([[0.6820],\n",
            "        [0.0041],\n",
            "        [0.5717]])\n",
            "tensor(14)\n"
          ]
        }
      ]
    },
    {
      "cell_type": "code",
      "source": [
        "#transpose of a matrix\n",
        "y = y.T\n",
        "y"
      ],
      "metadata": {
        "colab": {
          "base_uri": "https://localhost:8080/"
        },
        "id": "XRBCPmSSeXkr",
        "outputId": "16766b06-9f8a-40fc-c65d-f4c4db9d74af"
      },
      "execution_count": null,
      "outputs": [
        {
          "output_type": "execute_result",
          "data": {
            "text/plain": [
              "tensor([[0.6820, 0.0041, 0.5717]])"
            ]
          },
          "metadata": {},
          "execution_count": 11
        }
      ]
    },
    {
      "cell_type": "code",
      "source": [
        "#minimum value\n",
        "torch.min(x)\n",
        "x.min()\n",
        "\n",
        "#maximum value\n",
        "torch.max(y)\n",
        "y.max()\n",
        "\n",
        "#average value which only works with floating, complex values\n",
        "torch.mean(y)\n",
        "x.type(torch.float32).mean()\n",
        "\n",
        "#sum\n",
        "torch.sum(x), x.sum()\n",
        "\n",
        "#position of minimum/maximum value in a tensor\n",
        "torch.argmin(x)\n",
        "x.argmax()\n"
      ],
      "metadata": {
        "colab": {
          "base_uri": "https://localhost:8080/"
        },
        "id": "lUq9pXWAjHK-",
        "outputId": "80fb248d-4f2c-4399-b4c2-09d1633f17f8"
      },
      "execution_count": null,
      "outputs": [
        {
          "output_type": "execute_result",
          "data": {
            "text/plain": [
              "tensor(2)"
            ]
          },
          "metadata": {},
          "execution_count": 12
        }
      ]
    },
    {
      "cell_type": "code",
      "source": [
        "x = torch.tensor([1, 2, 3])\n",
        "#re-shape\n",
        "x_reshape = torch.reshape(x, (3, 1))\n",
        "x_reshape\n",
        "\n",
        "#view makes the changes in the original memory\n",
        "z = x.view(3, 1)\n",
        "z[0, 0] = 4\n",
        "z, x\n"
      ],
      "metadata": {
        "colab": {
          "base_uri": "https://localhost:8080/"
        },
        "id": "u7hOkB9ftuHu",
        "outputId": "9ac22155-da4d-4e1b-dbe9-8a73ff5da8d6"
      },
      "execution_count": null,
      "outputs": [
        {
          "output_type": "execute_result",
          "data": {
            "text/plain": [
              "(tensor([[4],\n",
              "         [2],\n",
              "         [3]]),\n",
              " tensor([4, 2, 3]))"
            ]
          },
          "metadata": {},
          "execution_count": 13
        }
      ]
    },
    {
      "cell_type": "code",
      "source": [
        "#stack a tensor\n",
        "stacked = torch.stack([x, x, x], dim = 1) #dimension depends on the shape of the tensor\n",
        "print(stacked)"
      ],
      "metadata": {
        "colab": {
          "base_uri": "https://localhost:8080/"
        },
        "id": "MCcLeFFaXN0t",
        "outputId": "a84a5870-d5ea-4f17-f16b-e9b70a106577"
      },
      "execution_count": null,
      "outputs": [
        {
          "output_type": "stream",
          "name": "stdout",
          "text": [
            "tensor([[4, 4, 4],\n",
            "        [2, 2, 2],\n",
            "        [3, 3, 3]])\n"
          ]
        }
      ]
    },
    {
      "cell_type": "code",
      "source": [
        "#squeeze removes single dimensions\n",
        "x = torch.tensor([[1, 2, 3, 4]])\n",
        "print(f\"Shape of x: {x.shape}\")\n",
        "print(x)\n",
        "x_squeezed = x.squeeze()\n",
        "print(f\"Shape of squeezed x: {x_squeezed.shape}\")\n",
        "print(x_squeezed)\n",
        "\n",
        "#unsqueeze adds a dimension\n",
        "x_unsqueezed = x_squeezed.unsqueeze(dim = 0)\n",
        "x_unsqueezed, x_unsqueezed.shape"
      ],
      "metadata": {
        "colab": {
          "base_uri": "https://localhost:8080/"
        },
        "id": "QhSvuPC2b1RV",
        "outputId": "c8626106-6ebb-4752-ea93-319fc1fa0b7f"
      },
      "execution_count": null,
      "outputs": [
        {
          "output_type": "stream",
          "name": "stdout",
          "text": [
            "Shape of x: torch.Size([1, 4])\n",
            "tensor([[1, 2, 3, 4]])\n",
            "Shape of squeezed x: torch.Size([4])\n",
            "tensor([1, 2, 3, 4])\n"
          ]
        },
        {
          "output_type": "execute_result",
          "data": {
            "text/plain": [
              "(tensor([[1, 2, 3, 4]]), torch.Size([1, 4]))"
            ]
          },
          "metadata": {},
          "execution_count": 46
        }
      ]
    },
    {
      "cell_type": "code",
      "source": [
        "#permute - change the order of the dimensions\n",
        "original = torch.rand(2, 3, 4)\n",
        "print(original)\n",
        "print(original.shape)\n",
        "new = torch.permute(original, (1, 0, 2)) # (3, 2, 4)\n",
        "new, new.shape"
      ],
      "metadata": {
        "colab": {
          "base_uri": "https://localhost:8080/"
        },
        "id": "Skw1o0EOegNk",
        "outputId": "6e420ad7-6e6d-4cb3-9fa3-90be8161fcae"
      },
      "execution_count": null,
      "outputs": [
        {
          "output_type": "stream",
          "name": "stdout",
          "text": [
            "tensor([[[0.6284, 0.0808, 0.8971, 0.6637],\n",
            "         [0.9646, 0.8398, 0.2106, 0.5712],\n",
            "         [0.2331, 0.9309, 0.0588, 0.7270]],\n",
            "\n",
            "        [[0.6571, 0.1105, 0.9925, 0.9456],\n",
            "         [0.7342, 0.6645, 0.8483, 0.7807],\n",
            "         [0.9056, 0.6747, 0.7115, 0.4019]]])\n",
            "torch.Size([2, 3, 4])\n"
          ]
        },
        {
          "output_type": "execute_result",
          "data": {
            "text/plain": [
              "(tensor([[[0.6284, 0.0808, 0.8971, 0.6637],\n",
              "          [0.6571, 0.1105, 0.9925, 0.9456]],\n",
              " \n",
              "         [[0.9646, 0.8398, 0.2106, 0.5712],\n",
              "          [0.7342, 0.6645, 0.8483, 0.7807]],\n",
              " \n",
              "         [[0.2331, 0.9309, 0.0588, 0.7270],\n",
              "          [0.9056, 0.6747, 0.7115, 0.4019]]]),\n",
              " torch.Size([3, 2, 4]))"
            ]
          },
          "metadata": {},
          "execution_count": 51
        }
      ]
    },
    {
      "cell_type": "code",
      "source": [
        "#both variables will share same memory on permuting hence changing a specific value in one will affect the other\n",
        "x = torch.rand(1, 2, 3)\n",
        "print(x)\n",
        "y = x.permute(1, 2, 0) # (2, 3, 1)\n",
        "print(y)\n",
        "x[0, 0, 0] = 0.4\n",
        "print(y)"
      ],
      "metadata": {
        "colab": {
          "base_uri": "https://localhost:8080/"
        },
        "id": "1UDFOKtognwV",
        "outputId": "aa7e8305-7733-4222-c13d-047bc7919b95"
      },
      "execution_count": null,
      "outputs": [
        {
          "output_type": "stream",
          "name": "stdout",
          "text": [
            "tensor([[[0.6091, 0.4212, 0.0295],\n",
            "         [0.1414, 0.2281, 0.9365]]])\n",
            "tensor([[[0.6091],\n",
            "         [0.4212],\n",
            "         [0.0295]],\n",
            "\n",
            "        [[0.1414],\n",
            "         [0.2281],\n",
            "         [0.9365]]])\n",
            "tensor([[[0.4000],\n",
            "         [0.4212],\n",
            "         [0.0295]],\n",
            "\n",
            "        [[0.1414],\n",
            "         [0.2281],\n",
            "         [0.9365]]])\n"
          ]
        }
      ]
    }
  ]
}